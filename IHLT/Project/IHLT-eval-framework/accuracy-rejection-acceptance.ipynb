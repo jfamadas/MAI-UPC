{
 "cells": [
  {
   "cell_type": "code",
   "execution_count": null,
   "metadata": {
    "collapsed": true
   },
   "outputs": [],
   "source": [
    "# compute the accuracy, the rejection and the acceptance of a system response\n",
    "\n",
    "def read_integer_file(name):\n",
    "    # read lines of a text file\n",
    "\n",
    "    with open(name) as f:\n",
    "        lines = f.readlines()\n",
    "    # remove`\\n` at the end of each line\n",
    "    lines = [int(x.strip()) for x in lines]\n",
    "    return lines\n",
    "\n",
    "def count(g,s):\n",
    "    TP = TN = FP = FN = 0\n",
    "    for i in range(0,len(g)):\n",
    "        if (g[i]==s[i] and s[i]==1): TP+=1\n",
    "        if (g[i]==s[i] and s[i]==0): TN+=1\n",
    "        if (g[i]!=s[i] and s[i]==1): FP+=1\n",
    "        if (g[i]!=s[i] and s[i]==0): FN+=1\n",
    "    return [TP,TN,FP,FN]\n",
    "    \n",
    "def MSRP_eval(name1, name2):\n",
    "    gs = read_integer_file(name1)\n",
    "    sys = read_integer_file(name2)\n",
    "    [TP,TN,FP,FN] = count(gs,sys)\n",
    "    acc = (TP+TN)/float(TP+TN+FP+FN)\n",
    "    reject = TN/float(TN+FP) #precision on negative\n",
    "    accept = TP/float(TP+FN) #precision on positive\n",
    "    print(\"acc=\",acc,\" reject=\",reject,\" accept=\",accept)"
   ]
  }
 ],
 "metadata": {
  "kernelspec": {
   "display_name": "Python 3",
   "language": "python",
   "name": "python3"
  },
  "language_info": {
   "codemirror_mode": {
    "name": "ipython",
    "version": 3
   },
   "file_extension": ".py",
   "mimetype": "text/x-python",
   "name": "python",
   "nbconvert_exporter": "python",
   "pygments_lexer": "ipython3",
   "version": "3.5.2"
  }
 },
 "nbformat": 4,
 "nbformat_minor": 2
}
